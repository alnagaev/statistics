{
 "cells": [
  {
   "cell_type": "code",
   "execution_count": 35,
   "metadata": {},
   "outputs": [
    {
     "name": "stdout",
     "output_type": "stream",
     "text": [
      "496\n",
      "(2079, 15)\n"
     ]
    }
   ],
   "source": [
    "%matplotlib inline\n",
    "import numpy as np\n",
    "import pandas as pd\n",
    "import matplotlib as mpl\n",
    "import matplotlib.pyplot as plt\n",
    "import seaborn as sns\n",
    "from collections import Counter\n",
    "sns.set(style=\"whitegrid\", color_codes=True)\n",
    "\n",
    "df = pd.read_pickle(\"result.pkl\")\n",
    "df['age'] = (2018 - df['Year']).apply(pd.to_numeric)\n",
    "df = df[np.isfinite(df['age'])]\n",
    "a = np.array(df['is_reposter'].tolist())\n",
    "b  = np.array(df['age'].tolist())\n",
    "# print(df['age'].where(df['is_reposter']== 1).mean())\n",
    "# print(df['age'].where(df['is_reposter']== 0).mean())\n",
    "# print(df['age'].where(df['is_liker']== 1).mean())\n",
    "# print(df['age'].where(df['is_liker']== 0).mean())\n",
    "\n",
    "# print(df[(df.is_reposter == 1)].mode().iloc[0])\n",
    "# print(df[(df.is_reposter == 0)].mode().iloc[0])\n",
    "\n",
    "print(df['political'][(df.segment == 'Имперский')].value_counts())\n",
    "# dict(Counter(df[(df.segment == 'Правый')]))\n",
    "print(df[(df.segment == 'Имперский')].shape)"
   ]
  },
  {
   "cell_type": "code",
   "execution_count": null,
   "metadata": {
    "collapsed": true,
    "scrolled": false
   },
   "outputs": [],
   "source": [
    "import pandas as pd\n",
    "import os\n",
    "import pickle\n",
    "import numpy as np\n",
    "import time\n",
    "\n",
    "with open(\"list_likers.txt\", \"rb\") as fp:\n",
    "    likers = pickle.load(fp)\n",
    "\n",
    "\n",
    "with open(\"list_reposters.txt\", \"rb\") as fp_1:\n",
    "    reposters = pickle.load(fp_1)\n",
    "\n",
    "    \n",
    "df = pd.read_pickle('123.pkl')\n",
    "\n",
    "df['is_liker'] = likers\n",
    "df['is_reposter'] = reposters\n",
    "lik = df[['is_liker', 'is_reposter']].apply(pd.to_numeric)\n",
    "kek = lik[['is_liker', 'is_reposter']].astype(bool)\n",
    "df['bdate'] = pd.to_datetime(df['bdate'], errors = 'coerce', yearfirst=True)\n",
    "df['Year'] = pd.DatetimeIndex(df['bdate']).year\n",
    "df1 = df[['Year', 'alcohol', 'city', 'country', 'followers_count', 'ids', 'people_main', \n",
    "          'life_main', 'political', 'religion', 'segment', 'smoking']]\n",
    "df1['is_liker'] = kek['is_liker']\n",
    "df1['is_reposter'] = kek['is_reposter']\n",
    "# df1[['is_liker', 'is_reposter']].astype('float64')\n",
    "# df1['Year'].corr(df1['is_reposter'])\n",
    "df1.to_pickle(\"result.pkl\")\n",
    "# df1.dtypes\n",
    "# df.head()"
   ]
  },
  {
   "cell_type": "code",
   "execution_count": null,
   "metadata": {
    "scrolled": true
   },
   "outputs": [],
   "source": [
    "import os\n",
    "import pandas as pd\n",
    "import pickle\n",
    "\n",
    "bdr = os.path.dirname('C:/Users/USER/Documents/Python_Scripts/vksub/full_users/25240087.xlsx')\n",
    "files = os.listdir(bdr)\n",
    "# all_data =  pd.DataFrame()\n",
    "\n",
    "# for file in files:\n",
    "#     df = pd.read_excel('C:/Users/USER/Documents/Python_Scripts/vksub/full_users/'+str(file))\n",
    "#     all_data = all_data.append(df,ignore_index=True)\n",
    "#     print('concat_done')\n",
    "# all_data.to_pickle('C:/Users/USER/Documents/Python_Scripts/vksub/Database.pkl')\n",
    "# print('database created')\n",
    "\n",
    "\n",
    "active_dict = {}\n",
    "likers = []\n",
    "for i in files:\n",
    "    try:\n",
    "        ids = pd.read_excel('C:/Users/USER/Documents/Python_Scripts/vksub/likers/'+str(i))['ids'].tolist()\n",
    "        likers.extend(ids)\n",
    "        print('appended')\n",
    "    except Exception as e:\n",
    "        print(e)\n",
    "        pass\n",
    "    \n",
    "active_dict['likers'] = likers\n",
    "\n",
    "reposters = []\n",
    "for j in files:\n",
    "    try:\n",
    "        ids = pd.read_excel('C:/Users/USER/Documents/Python_Scripts/vksub/reposters/'+str(j))['ids'].tolist()\n",
    "        reposters.extend(ids)\n",
    "        print('appended')\n",
    "    except Exception as e:\n",
    "        print(e)\n",
    "        pass\n",
    "active_dict['reposters'] = reposters   \n",
    "\n",
    "\n",
    "with open('active_dict', 'wb') as fp:\n",
    "    pickle.dump(active_dict, fp)\n",
    "    \n",
    "print('its over')"
   ]
  },
  {
   "cell_type": "code",
   "execution_count": 27,
   "metadata": {
    "scrolled": true
   },
   "outputs": [
    {
     "data": {
      "text/plain": [
       "3289911"
      ]
     },
     "execution_count": 27,
     "metadata": {},
     "output_type": "execute_result"
    }
   ],
   "source": [
    "import os\n",
    "import pandas as pd\n",
    "import pickle \n",
    "import numpy as np\n",
    "with open(\"active_dict\", \"rb\") as fp_1:\n",
    "    dicty = pickle.load(fp_1)\n",
    "\n",
    "dicty['reposters']\n",
    "\n",
    "db = pd.read_pickle('C:/Users/USER/Documents/Python_Scripts/vksub/Database.pkl')\n",
    "\n",
    "db.shape[0]\n",
    "\n",
    "\n",
    "\n"
   ]
  },
  {
   "cell_type": "code",
   "execution_count": null,
   "metadata": {
    "scrolled": false
   },
   "outputs": [],
   "source": [
    "import os\n",
    "import pandas as pd\n",
    "import pickle \n",
    "with open(\"active_dict\", \"rb\") as fp_1:\n",
    "    dicty = pickle.load(fp_1)\n",
    "\n",
    "dicty['reposters']\n",
    "\n",
    "db = pd.read_pickle('C:/Users/USER/Documents/Python_Scripts/vksub/Database.pkl')['ids']\n",
    "db.isin(dicty['reposters'])"
   ]
  },
  {
   "cell_type": "code",
   "execution_count": 21,
   "metadata": {},
   "outputs": [
    {
     "data": {
      "text/html": [
       "<div>\n",
       "<style>\n",
       "    .dataframe thead tr:only-child th {\n",
       "        text-align: right;\n",
       "    }\n",
       "\n",
       "    .dataframe thead th {\n",
       "        text-align: left;\n",
       "    }\n",
       "\n",
       "    .dataframe tbody tr th {\n",
       "        vertical-align: top;\n",
       "    }\n",
       "</style>\n",
       "<table border=\"1\" class=\"dataframe\">\n",
       "  <thead>\n",
       "    <tr style=\"text-align: right;\">\n",
       "      <th></th>\n",
       "      <th>A</th>\n",
       "      <th>B</th>\n",
       "    </tr>\n",
       "  </thead>\n",
       "  <tbody>\n",
       "    <tr>\n",
       "      <th>0</th>\n",
       "      <td>True</td>\n",
       "      <td>True</td>\n",
       "    </tr>\n",
       "    <tr>\n",
       "      <th>1</th>\n",
       "      <td>False</td>\n",
       "      <td>False</td>\n",
       "    </tr>\n",
       "    <tr>\n",
       "      <th>2</th>\n",
       "      <td>True</td>\n",
       "      <td>False</td>\n",
       "    </tr>\n",
       "  </tbody>\n",
       "</table>\n",
       "</div>"
      ],
      "text/plain": [
       "       A      B\n",
       "0   True   True\n",
       "1  False  False\n",
       "2   True  False"
      ]
     },
     "execution_count": 21,
     "metadata": {},
     "output_type": "execute_result"
    }
   ],
   "source": [
    "df = pd.DataFrame({'A': [1, 2, 3], 'B': ['a', 'b', 'f']})\n",
    "df.isin([1, 3, 12, 'a'])"
   ]
  }
 ],
 "metadata": {
  "kernelspec": {
   "display_name": "Python 3",
   "language": "python",
   "name": "python3"
  },
  "language_info": {
   "codemirror_mode": {
    "name": "ipython",
    "version": 3
   },
   "file_extension": ".py",
   "mimetype": "text/x-python",
   "name": "python",
   "nbconvert_exporter": "python",
   "pygments_lexer": "ipython3",
   "version": "3.6.3"
  }
 },
 "nbformat": 4,
 "nbformat_minor": 2
}
