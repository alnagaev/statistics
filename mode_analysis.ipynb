{
 "cells": [
  {
   "cell_type": "code",
   "execution_count": 3,
   "metadata": {},
   "outputs": [],
   "source": [
    "import pickle\n",
    "import pandas as pd\n",
    "import os\n",
    "base_dir = os.path.dirname('C:/Users/USER/Documents/магистерская/практическая часть/likers/ДРУГАЯ РОССИЯ.xlsx')\n",
    "files = os.listdir(base_dir)\n",
    "all_data = pd.DataFrame()\n",
    "for file in files:\n",
    "    df = pd.read_excel('C:/Users/USER/Documents/магистерская/практическая часть/likers/'+str(file))\n",
    "    all_data = all_data.append(df,ignore_index=True)\n",
    "deduplicated = all_data.drop_duplicates(subset=['ids'], keep='first', inplace=False)\n",
    "\n",
    "reposters = deduplicated['ids'].tolist()\n",
    "\n",
    "with open(\"test_1.txt\", \"wb\") as fp:\n",
    "    pickle.dump(reposters, fp)\n"
   ]
  },
  {
   "cell_type": "code",
   "execution_count": null,
   "metadata": {
    "collapsed": true
   },
   "outputs": [],
   "source": [
    "import pickle\n",
    "import pandas as pd\n",
    "import os\n",
    "base_dir = os.path.dirname('C:/Users/USER/Documents/магистерская/практическая часть/reposters/ДРУГАЯ РОССИЯ.xlsx')\n",
    "files = os.listdir(base_dir)\n",
    "all_data = pd.DataFrame()\n",
    "for file in files:\n",
    "    df = pd.read_excel('C:/Users/USER/Documents/магистерская/практическая часть/reposters/'+str(file))\n",
    "    all_data = all_data.append(df,ignore_index=True)\n",
    "deduplicated = all_data.drop_duplicates(subset=['ids'], keep='first', inplace=False)\n",
    "\n",
    "reposters = deduplicated['ids'].tolist()\n",
    "\n",
    "bdr = os.path.dirname('C:/Users/USER/Documents/магистерская/практическая часть/all users/ДРУГАЯ РОССИЯ.xlsx')\n",
    "files_1 = os.listdir(bdr)\n",
    "all_data_1 =  pd.DataFrame()\n",
    "for file in files_1:\n",
    "    df = pd.read_excel('C:/Users/USER/Documents/магистерская/практическая часть/all users/'+str(file))\n",
    "    all_data_1 = all_data_1.append(df,ignore_index=True)\n",
    "deduplicated_1 = all_data_1.drop_duplicates(subset=['ids'], keep='first', inplace=False)\n",
    "deduplicated_1['is_reposter'] = 0\n",
    "for i in deduplicated_1['ids'].tolist():\n",
    "    if i in reposters:\n",
    "        deduplicated_1.loc[deduplicated_1['ids'] == i, \"is_reposter\"] = 1\n",
    "\n",
    "\n",
    "deduplicated_1.to_pickle('123.pkl')\n",
    "# dic = {}\n",
    "# for file in files:\n",
    "#     try:\n",
    "#         df = pd.read_excel('C:/Users/USER/Documents/магистерская/практическая часть/reposters/'+str(file))\n",
    "#         df['bdate'] = pd.to_datetime(df['bdate'], errors = 'coerce', yearfirst=True)\n",
    "#         df['Year'] = pd.DatetimeIndex(df['bdate']).year  \n",
    "#         a = df.drop_duplicates(subset=None, keep='first', inplace=False)\n",
    "#         res = a.mode().iloc[0].values.tolist()"
   ]
  },
  {
   "cell_type": "code",
   "execution_count": null,
   "metadata": {
    "collapsed": true,
    "scrolled": true
   },
   "outputs": [],
   "source": [
    "import pandas as pd\n",
    "import os\n",
    "base_dir = os.path.dirname('C:/Users/USER/Documents/магистерская/практическая часть/reposters/ДРУГАЯ РОССИЯ.xlsx')\n",
    "files = os.listdir(base_dir)\n",
    "dic = {}\n",
    "for file in files:\n",
    "    try:\n",
    "        df = pd.read_excel('C:/Users/USER/Documents/магистерская/практическая часть/reposters/'+str(file))\n",
    "        df['bdate'] = pd.to_datetime(df['bdate'], errors = 'coerce', yearfirst=True)\n",
    "        df['Year'] = pd.DatetimeIndex(df['bdate']).year  \n",
    "        a = df.drop_duplicates(subset=None, keep='first', inplace=False)\n",
    "        res = a.mode().iloc[0].values.tolist()\n",
    "#         dic[file] = res\n",
    "#     except Exception as e:\n",
    "#         print(str(e))\n",
    "#         pass\n",
    "\n",
    "# df_1 = pd.DataFrame.from_dict(dic)\n",
    "# writer = pd.ExcelWriter('{}.xlsx'.format(input('Input file_name: ')))\n",
    "# df_1.to_excel(writer,'Sheet1')\n",
    "# writer.save()\n"
   ]
  },
  {
   "cell_type": "code",
   "execution_count": null,
   "metadata": {
    "collapsed": true
   },
   "outputs": [],
   "source": [
    "import pandas as pd\n",
    "import os\n",
    "base_dir = os.path.dirname('C:/Users/USER/Documents/магистерская/практическая часть/all users/ДРУГАЯ РОССИЯ.xlsx')\n",
    "files = os.listdir(base_dir)\n",
    "dic = {}\n",
    "for file in files:\n",
    "    try:\n",
    "        df = pd.read_excel('C:/Users/USER/Documents/магистерская/практическая часть/all users/'+str(file))\n",
    "        a = df.drop_duplicates(subset=None, keep='first', inplace=False)\n",
    "        res = len(a['first_name'])\n",
    "#         print(res)\n",
    "        dic[file] = res\n",
    "    except Exception as e:\n",
    "#         print(str(e))\n",
    "        pass\n",
    "\n",
    "# print(dic)\n",
    "df_1 = pd.DataFrame.from_dict(dic, orient='index')\n",
    "writer = pd.ExcelWriter('{}.xlsx'.format(input('Input file_name: ')))\n",
    "df_1.to_excel(writer,'Sheet1')\n",
    "writer.save()\n",
    "df_1[0].sum()"
   ]
  },
  {
   "cell_type": "code",
   "execution_count": null,
   "metadata": {
    "collapsed": true
   },
   "outputs": [],
   "source": [
    "import pandas as pd\n",
    "import os\n",
    "base_dir = os.path.dirname('C:/Users/USER/Documents/магистерская/практическая часть/posts/ДРУГАЯ РОССИЯ.xlsx')\n",
    "files = os.listdir(base_dir)\n",
    "dic = {}\n",
    "for file in files:\n",
    "    try:\n",
    "        df = pd.read_excel('C:/Users/USER/Documents/магистерская/практическая часть/posts/'+str(file))\n",
    "        a = df.drop_duplicates(subset=None, keep='first', inplace=False)\n",
    "        res = len(a['dates'])\n",
    "#         print(res)\n",
    "        dic[file] = res\n",
    "    except Exception as e:\n",
    "#         print(str(e))\n",
    "        pass\n",
    "\n",
    "# print(dic)\n",
    "df_1 = pd.DataFrame.from_dict(dic, orient='index')\n",
    "writer = pd.ExcelWriter('{}.xlsx'.format(input('Input file_name: ')))\n",
    "df_1.to_excel(writer,'Sheet1')\n",
    "writer.save()\n",
    "df_1[0].sum()"
   ]
  },
  {
   "cell_type": "code",
   "execution_count": null,
   "metadata": {
    "collapsed": true
   },
   "outputs": [],
   "source": [
    "import pandas as pd\n",
    "import os\n",
    "base_dir = os.path.dirname('C:/Users/USER/Documents/магистерская/практическая часть/posts/ДРУГАЯ РОССИЯ.xlsx')\n",
    "files = os.listdir(base_dir)\n",
    "files\n",
    "df = pd.read_excel('C:/Users/USER/Documents/магистерская/практическая часть/posts/'+str(files[0]))\n",
    "df.mean().values.tolist()\n",
    "# dic = {}\n",
    "# for file in files:\n",
    "#     try:\n",
    "#         df = pd.read_excel('C:/Users/USER/Documents/магистерская/практическая часть/posts/'+str(file))\n",
    "#         df['bdate'] = pd.to_datetime(df['bdate'], errors = 'coerce', yearfirst=True)\n",
    "#         df['Year'] = pd.DatetimeIndex(df['bdate']).year\n",
    "#         res = df.mode().iloc[0].values.tolist()\n",
    "#         dic[file] = res\n",
    "#     except Exception as e:\n",
    "#         print(str(e))\n",
    "#         pass   \n",
    "\n",
    "# df_1 = pd.DataFrame.from_dict(dic)\n",
    "# writer = pd.ExcelWriter('{}.xlsx'.format(input('Input file_name: ')))\n",
    "# df_1.to_excel(writer,'Sheet1')\n",
    "# writer.save()"
   ]
  },
  {
   "cell_type": "code",
   "execution_count": null,
   "metadata": {
    "collapsed": true
   },
   "outputs": [],
   "source": [
    "import pandas as pd\n",
    "import os\n",
    "base_dir = os.path.dirname('C:/Users/USER/Documents/магистерская/практическая часть/posts/ДРУГАЯ РОССИЯ.xlsx')\n",
    "dirs = [x for x in os.listdir(base_dir) if not x.endswith('xlsx')]\n",
    "dirs \n",
    "for dr in dirs :\n",
    "    dic = {}\n",
    "    files = [x for x in os.listdir((base_dir+'/'+dr)) if x.endswith('xlsx')]\n",
    "    for file in files:\n",
    "        df = pd.read_excel('C:/Users/USER/Documents/магистерская/практическая часть/posts/'\n",
    "                        +str(dr)+'/'+str(file))[['likes', 'reposts']]\n",
    "        res = df.sum()\n",
    "        dic[file[:-4]] = res\n",
    "    df_1 = pd.DataFrame.from_dict(dic)\n",
    "    writer = pd.ExcelWriter('{}.xlsx'.format(dr))\n",
    "    df_1.to_excel(writer,'Sheet1')\n",
    "    writer.save()\n",
    "# dic = {}\n",
    "# for file in files:\n",
    "#     try:\n",
    "#         df = pd.read_excel('C:/Users/USER/Documents/магистерская/практическая часть/posts/имперцы'\n",
    "#                            +str(file))[['likes', 'reposts']]\n",
    "#         res = df.mean().values.tolist()\n",
    "#         dic[file[:-4]] = res\n",
    "#     except Exception as e:\n",
    "#         print(str(e))\n",
    "#         pass   \n",
    "\n",
    "# dic\n",
    "# df_1 = pd.DataFrame.from_dict(dic)\n",
    "# writer = pd.ExcelWriter('{}.xlsx'.format(input('Input file_name: ')))\n",
    "# df_1.to_excel(writer,'Sheet1')\n",
    "# writer.save()"
   ]
  },
  {
   "cell_type": "code",
   "execution_count": null,
   "metadata": {
    "collapsed": true
   },
   "outputs": [],
   "source": [
    "import pandas as pd\n",
    "import os\n",
    "df = pd.read_excel('C:/Users/USER/Documents/Python_Scripts/Pure/reposters_mode.xlsx', sheet_name='Лист1')\n",
    "df.mode().iloc[0]\n",
    "# age = 2018 -  df['Year'].mean()\n",
    "# age\n"
   ]
  }
 ],
 "metadata": {
  "kernelspec": {
   "display_name": "Python 3",
   "language": "python",
   "name": "python3"
  },
  "language_info": {
   "codemirror_mode": {
    "name": "ipython",
    "version": 3
   },
   "file_extension": ".py",
   "mimetype": "text/x-python",
   "name": "python",
   "nbconvert_exporter": "python",
   "pygments_lexer": "ipython3",
   "version": "3.6.3"
  }
 },
 "nbformat": 4,
 "nbformat_minor": 2
}
