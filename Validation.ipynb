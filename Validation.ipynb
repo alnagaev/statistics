{
 "cells": [
  {
   "cell_type": "code",
   "execution_count": 15,
   "metadata": {
    "collapsed": true
   },
   "outputs": [],
   "source": [
    "import requests\n",
    "import datetime\n",
    "import pprint, codecs\n",
    "import pandas as pd\n",
    "from collections import defaultdict, Counter \n",
    "import pickle \n",
    "import re\n",
    "\n",
    "token = open('C:/Users/USER/Documents/token.txt', 'r').read()\n",
    "ids = open('C:/Users/USER/Documents/магистерская/практическая часть/ids.txt', 'r').read().split(',')\n",
    "ids = ['-'+str(x) for x in ids]\n",
    "results = {}\n",
    "for  gid in ids:\n",
    "    try:\n",
    "        r = requests.post('https://api.vk.com/method/execute.postsGet?id='+\n",
    "                          str(gid)+'&offset='+str(0)+'&v='+'5.73'+\n",
    "                          '&access_token='+token).json()['response'][1]\n",
    "#         print(r)\n",
    "        text = []\n",
    "        for i in r:\n",
    "            try:\n",
    "                req =  requests.post('https://api.vk.com/method/execute.commentsGet?id='+\n",
    "                              str(gid)+'&number='+str(i)+'&v='+'5.73'+\n",
    "                              '&access_token='+token).json()\n",
    "                if req['response']:\n",
    "                    text.append(req['response'])\n",
    "                    screen_name = requests.get('https://api.vk.com/method/groups.getById',\n",
    "                            params={'group_id':str(gid[1:]),\n",
    "                                    'access_token':token, 'v':'5.73'}).json()['response'][-1]['name']\n",
    "                    screen_name =re.sub('[^\\w_.)( -]', '', screen_name)\n",
    "                    results[screen_name] = text\n",
    "            except Exception as e:\n",
    "                pass\n",
    "    except Exception as e:\n",
    "        pass\n",
    "        \n",
    "with open('commentb_pickle', 'wb') as fp:\n",
    "    pickle.dump(results, fp)"
   ]
  },
  {
   "cell_type": "code",
   "execution_count": 14,
   "metadata": {
    "collapsed": true
   },
   "outputs": [],
   "source": [
    "import requests\n",
    "import datetime\n",
    "import pprint, codecs\n",
    "import pandas as pd\n",
    "from collections import defaultdict, Counter \n",
    "import pickle \n",
    "import re\n",
    "\n",
    "token = open('C:/Users/USER/Documents/token.txt', 'r').read()\n",
    "ids = open('C:/Users/USER/Documents/магистерская/практическая часть/ids.txt', 'r').read().split(',')\n",
    "ids = ['-'+str(x) for x in ids]\n",
    "text = []\n",
    "for  gid in ids:\n",
    "    try:\n",
    "        r = requests.post('https://api.vk.com/method/execute.postsGet?id='+\n",
    "                          str(gid)+'&offset='+str(0)+'&v='+'5.73'+\n",
    "                          '&access_token='+token).json()['response'][1]\n",
    "#         print(r)\n",
    "        for i in r:\n",
    "            try:\n",
    "                req =  requests.post('https://api.vk.com/method/execute.commentsGet?id='+\n",
    "                              str(gid)+'&number='+str(i)+'&v='+'5.73'+\n",
    "                              '&access_token='+token).json()\n",
    "                if req['response']:\n",
    "                    text.extend(req['response'])\n",
    "            except Exception as e:\n",
    "                pass\n",
    "    except Exception as e:\n",
    "        pass\n",
    "        \n",
    "with open('commentb_pickle', 'wb') as fp:\n",
    "    pickle.dump(text, fp)"
   ]
  },
  {
   "cell_type": "code",
   "execution_count": 4,
   "metadata": {},
   "outputs": [
    {
     "name": "stdout",
     "output_type": "stream",
     "text": [
      "Unsupported format, or corrupt file: Expected BOF record; found b'\\x04USER   '\n"
     ]
    }
   ],
   "source": [
    "import requests\n",
    "import requests\n",
    "import pandas as pd\n",
    "import time, os\n",
    "\n",
    "token = open('C:/Users/USER/Documents/token.txt', 'r').read()\n",
    "\n",
    "ids = open('C:/Users/USER/Documents/Python_Scripts/vksub/subculture_list.txt', 'r').read().split(',')\n",
    "# for i in ids:\n",
    "#     r = requests.get('https://api.vk.com/method/groups.getById', params = {\"group_id\":i, \"access_token\":token, \"v\":\"5.73\"})\n",
    "#     time.sleep(0.33)\n",
    "#     gid = r.json()['response'][0]['id']\n",
    "#     name = r.json()['response'][0]['name']\n",
    "#     screen_name = r.json()['response'][0]['screen_name']\n",
    "#     is_closed = r.json()['response'][0]['is_closed']\n",
    "#     print(is_closed)\n",
    "\n",
    "base_dir = os.path.dirname('C:/Users/USER/Documents/Python_Scripts/vksub/full_users/Hikikomori.xlsx')\n",
    "files = os.listdir(base_dir)\n",
    "\n",
    "for file in files:\n",
    "    try:\n",
    "        df = pd.read_excel('C:/Users/USER/Documents/Python_Scripts/vksub/full_users/'+str(file))\n",
    "        gid = df.iloc[0]['group_id']\n",
    "        new_name = os.rename('C:/Users/USER/Documents/Python_Scripts/vksub/full_users/{}'.format(str(file)),\n",
    "                             'C:/Users/USER/Documents/Python_Scripts/vksub/full_users/{}.xlsx'.format(str(gid)))\n",
    "    except Exception as e:\n",
    "        print(str(e))\n",
    "    "
   ]
  },
  {
   "cell_type": "code",
   "execution_count": 2,
   "metadata": {},
   "outputs": [
    {
     "data": {
      "text/plain": [
       "{15609452, 129035828}"
      ]
     },
     "execution_count": 2,
     "metadata": {},
     "output_type": "execute_result"
    }
   ],
   "source": [
    "a = [22531, 12758482, 27955292, 386065, 47707751, 38210991, 51175007, 47683, 34230054, 46260240, 41614015, 27720440,\n",
    "     29285365, 40128356, 25240087, 15609452, 31691361, 35761023, 41268624, 33351420, 14403019, 10709, 51732233, \n",
    "     83384596, 1513522, 1026638, 1090630, 175802, 23441154, 129035828, 76116461, 121007334, 10208530, 54690542, 54072025, \n",
    "     43978, 1698716, 4593390, 40947974,\n",
    "     57052542, 34203592, 1446943, 19171132, 34579144, 65984250, 105148872, 1402272, 118796642, 383, 153902611, 247764]\n",
    "b = [175802, 57052542, 51732233, 33351420, 1402272, 14403019, 12758482, 29285365, 34203592, 118796642, 105148872, 1513522,\n",
    "     1026638, 76116461, 121007334, 27955292, 38210991, 47683, 25240087, 51175007, 34230054, 47707751, 386065, \n",
    "     40128356, 27720440, 247764, 383,\n",
    "     41268624, 1090630, 23441154, 34579144, 153902611, 35761023, 1698716, 31691361, 22531, 10208530, 54690542, 43978,\n",
    "     41614015, 46260240, 54072025, 65984250, 1446943, 4593390, 40947974, 19171132, 83384596, 10709]\n",
    "\n",
    "set(a).difference(set(b))"
   ]
  },
  {
   "cell_type": "code",
   "execution_count": 8,
   "metadata": {},
   "outputs": [
    {
     "data": {
      "text/plain": [
       "{47683,\n",
       " 1026638,\n",
       " 4593390,\n",
       " 15609452,\n",
       " 23441154,\n",
       " 34230054,\n",
       " 35761023,\n",
       " 38210991,\n",
       " 40947974,\n",
       " 41268624,\n",
       " 54072025,\n",
       " 54690542}"
      ]
     },
     "execution_count": 8,
     "metadata": {},
     "output_type": "execute_result"
    }
   ],
   "source": [
    "ids = open('C:/Users/USER/Documents/Python_Scripts/vksub/subculture_list.txt', 'r').read().split(',')\n",
    "ids = [int(i) for i in ids]\n",
    "posts = [57052542, 65984250, 76116461, 83384596, 105148872, 118796642, 121007334, 129035828, 153902611, \n",
    "         383, 10709, 22531, 43978, 175802, 247764, 386065, 1090630, 1402272, 1446943, 1513522, 1698716, 10208530,\n",
    "         12758482, 14403019, 19171132, 25240087, 27720440, 27955292, 29285365, 31691361, 33351420, 34203592, 34579144, \n",
    "         40128356, 41614015, 46260240, 47707751, 51175007, 51732233]\n",
    "set(a).difference(set(posts))"
   ]
  }
 ],
 "metadata": {
  "kernelspec": {
   "display_name": "Python 3",
   "language": "python",
   "name": "python3"
  },
  "language_info": {
   "codemirror_mode": {
    "name": "ipython",
    "version": 3
   },
   "file_extension": ".py",
   "mimetype": "text/x-python",
   "name": "python",
   "nbconvert_exporter": "python",
   "pygments_lexer": "ipython3",
   "version": "3.6.3"
  }
 },
 "nbformat": 4,
 "nbformat_minor": 2
}
