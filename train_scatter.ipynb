{
 "cells": [
  {
   "cell_type": "code",
   "execution_count": 7,
   "metadata": {},
   "outputs": [
    {
     "data": {
      "text/plain": [
       "<matplotlib.axes._subplots.AxesSubplot at 0x16feb10e1d0>"
      ]
     },
     "execution_count": 7,
     "metadata": {},
     "output_type": "execute_result"
    },
    {
     "data": {
      "image/png": "[encoded data removed]",
      "text/plain": [
       "<matplotlib.figure.Figure at 0x16feae032b0>"
      ]
     },
     "metadata": {},
     "output_type": "display_data"
    }
   ],
   "source": [
    "import pandas as pd\n",
    "import matplotlib.pyplot as plt \n",
    "%matplotlib inline\n",
    "df = pd.read_csv('C:/Users/USER/Downloads/states.csv')\n",
    "df.head()\n",
    "df.plot.scatter(x='hs_grad', y= 'poverty')"
   ]
  },
  {
   "cell_type": "code",
   "execution_count": 8,
   "metadata": {},
   "outputs": [
    {
     "data": {
      "text/html": [
       "<div>\n",
       "<style>\n",
       "    .dataframe thead tr:only-child th {\n",
       "        text-align: right;\n",
       "    }\n",
       "\n",
       "    .dataframe thead th {\n",
       "        text-align: left;\n",
       "    }\n",
       "\n",
       "    .dataframe tbody tr th {\n",
       "        vertical-align: top;\n",
       "    }\n",
       "</style>\n",
       "<table border=\"1\" class=\"dataframe\">\n",
       "  <thead>\n",
       "    <tr style=\"text-align: right;\">\n",
       "      <th></th>\n",
       "      <th>metro_res</th>\n",
       "      <th>white</th>\n",
       "      <th>hs_grad</th>\n",
       "      <th>poverty</th>\n",
       "      <th>female_house</th>\n",
       "    </tr>\n",
       "  </thead>\n",
       "  <tbody>\n",
       "    <tr>\n",
       "      <th>count</th>\n",
       "      <td>51.000000</td>\n",
       "      <td>51.000000</td>\n",
       "      <td>51.000000</td>\n",
       "      <td>51.000000</td>\n",
       "      <td>51.000000</td>\n",
       "    </tr>\n",
       "    <tr>\n",
       "      <th>mean</th>\n",
       "      <td>72.249020</td>\n",
       "      <td>81.719608</td>\n",
       "      <td>86.011765</td>\n",
       "      <td>11.349020</td>\n",
       "      <td>11.633333</td>\n",
       "    </tr>\n",
       "    <tr>\n",
       "      <th>std</th>\n",
       "      <td>15.275894</td>\n",
       "      <td>13.897223</td>\n",
       "      <td>3.725998</td>\n",
       "      <td>3.099185</td>\n",
       "      <td>2.356155</td>\n",
       "    </tr>\n",
       "    <tr>\n",
       "      <th>min</th>\n",
       "      <td>38.200000</td>\n",
       "      <td>25.900000</td>\n",
       "      <td>77.200000</td>\n",
       "      <td>5.600000</td>\n",
       "      <td>7.800000</td>\n",
       "    </tr>\n",
       "    <tr>\n",
       "      <th>25%</th>\n",
       "      <td>60.800000</td>\n",
       "      <td>76.800000</td>\n",
       "      <td>83.300000</td>\n",
       "      <td>9.250000</td>\n",
       "      <td>9.550000</td>\n",
       "    </tr>\n",
       "    <tr>\n",
       "      <th>50%</th>\n",
       "      <td>71.600000</td>\n",
       "      <td>85.400000</td>\n",
       "      <td>86.900000</td>\n",
       "      <td>10.600000</td>\n",
       "      <td>11.800000</td>\n",
       "    </tr>\n",
       "    <tr>\n",
       "      <th>75%</th>\n",
       "      <td>86.800000</td>\n",
       "      <td>90.250000</td>\n",
       "      <td>88.700000</td>\n",
       "      <td>13.400000</td>\n",
       "      <td>12.650000</td>\n",
       "    </tr>\n",
       "    <tr>\n",
       "      <th>max</th>\n",
       "      <td>100.000000</td>\n",
       "      <td>97.100000</td>\n",
       "      <td>92.100000</td>\n",
       "      <td>18.000000</td>\n",
       "      <td>18.900000</td>\n",
       "    </tr>\n",
       "  </tbody>\n",
       "</table>\n",
       "</div>"
      ],
      "text/plain": [
       "        metro_res      white    hs_grad    poverty  female_house\n",
       "count   51.000000  51.000000  51.000000  51.000000     51.000000\n",
       "mean    72.249020  81.719608  86.011765  11.349020     11.633333\n",
       "std     15.275894  13.897223   3.725998   3.099185      2.356155\n",
       "min     38.200000  25.900000  77.200000   5.600000      7.800000\n",
       "25%     60.800000  76.800000  83.300000   9.250000      9.550000\n",
       "50%     71.600000  85.400000  86.900000  10.600000     11.800000\n",
       "75%     86.800000  90.250000  88.700000  13.400000     12.650000\n",
       "max    100.000000  97.100000  92.100000  18.000000     18.900000"
      ]
     },
     "execution_count": 8,
     "metadata": {},
     "output_type": "execute_result"
    }
   ],
   "source": [
    "df.describe()"
   ]
  },
  {
   "cell_type": "code",
   "execution_count": 9,
   "metadata": {},
   "outputs": [
    {
     "data": {
      "text/html": [
       "<div>\n",
       "<style>\n",
       "    .dataframe thead tr:only-child th {\n",
       "        text-align: right;\n",
       "    }\n",
       "\n",
       "    .dataframe thead th {\n",
       "        text-align: left;\n",
       "    }\n",
       "\n",
       "    .dataframe tbody tr th {\n",
       "        vertical-align: top;\n",
       "    }\n",
       "</style>\n",
       "<table border=\"1\" class=\"dataframe\">\n",
       "  <thead>\n",
       "    <tr style=\"text-align: right;\">\n",
       "      <th></th>\n",
       "      <th>metro_res</th>\n",
       "      <th>white</th>\n",
       "      <th>hs_grad</th>\n",
       "      <th>poverty</th>\n",
       "      <th>female_house</th>\n",
       "    </tr>\n",
       "  </thead>\n",
       "  <tbody>\n",
       "    <tr>\n",
       "      <th>metro_res</th>\n",
       "      <td>1.000000</td>\n",
       "      <td>-0.342442</td>\n",
       "      <td>0.018110</td>\n",
       "      <td>-0.204235</td>\n",
       "      <td>0.300062</td>\n",
       "    </tr>\n",
       "    <tr>\n",
       "      <th>white</th>\n",
       "      <td>-0.342442</td>\n",
       "      <td>1.000000</td>\n",
       "      <td>0.238156</td>\n",
       "      <td>-0.308520</td>\n",
       "      <td>-0.751394</td>\n",
       "    </tr>\n",
       "    <tr>\n",
       "      <th>hs_grad</th>\n",
       "      <td>0.018110</td>\n",
       "      <td>0.238156</td>\n",
       "      <td>1.000000</td>\n",
       "      <td>-0.746858</td>\n",
       "      <td>-0.611867</td>\n",
       "    </tr>\n",
       "    <tr>\n",
       "      <th>poverty</th>\n",
       "      <td>-0.204235</td>\n",
       "      <td>-0.308520</td>\n",
       "      <td>-0.746858</td>\n",
       "      <td>1.000000</td>\n",
       "      <td>0.525397</td>\n",
       "    </tr>\n",
       "    <tr>\n",
       "      <th>female_house</th>\n",
       "      <td>0.300062</td>\n",
       "      <td>-0.751394</td>\n",
       "      <td>-0.611867</td>\n",
       "      <td>0.525397</td>\n",
       "      <td>1.000000</td>\n",
       "    </tr>\n",
       "  </tbody>\n",
       "</table>\n",
       "</div>"
      ],
      "text/plain": [
       "              metro_res     white   hs_grad   poverty  female_house\n",
       "metro_res      1.000000 -0.342442  0.018110 -0.204235      0.300062\n",
       "white         -0.342442  1.000000  0.238156 -0.308520     -0.751394\n",
       "hs_grad        0.018110  0.238156  1.000000 -0.746858     -0.611867\n",
       "poverty       -0.204235 -0.308520 -0.746858  1.000000      0.525397\n",
       "female_house   0.300062 -0.751394 -0.611867  0.525397      1.000000"
      ]
     },
     "execution_count": 9,
     "metadata": {},
     "output_type": "execute_result"
    }
   ],
   "source": [
    "df.corr(method='pearson', min_periods=1)"
   ]
  },
  {
   "cell_type": "code",
   "execution_count": 15,
   "metadata": {},
   "outputs": [
    {
     "data": {
      "text/plain": [
       "array([[-0.62121672]])"
      ]
     },
     "execution_count": 15,
     "metadata": {},
     "output_type": "execute_result"
    }
   ],
   "source": [
    "from sklearn import linear_model\n",
    "reg = linear_model.LinearRegression()\n",
    "y_data = df['poverty'].values.reshape(-1, 1)\n",
    "x_data = df['hs_grad'].values.reshape(-1, 1)\n",
    "reg.fit(x_data, y_data)\n",
    "reg.coef_"
   ]
  },
  {
   "cell_type": "code",
   "execution_count": 19,
   "metadata": {},
   "outputs": [
    {
     "data": {
      "text/html": [
       "<table class=\"simpletable\">\n",
       "<caption>OLS Regression Results</caption>\n",
       "<tr>\n",
       "  <th>Dep. Variable:</th>         <td>poverty</td>     <th>  R-squared:         </th> <td>   0.642</td>\n",
       "</tr>\n",
       "<tr>\n",
       "  <th>Model:</th>                   <td>OLS</td>       <th>  Adj. R-squared:    </th> <td>   0.610</td>\n",
       "</tr>\n",
       "<tr>\n",
       "  <th>Method:</th>             <td>Least Squares</td>  <th>  F-statistic:       </th> <td>   20.58</td>\n",
       "</tr>\n",
       "<tr>\n",
       "  <th>Date:</th>             <td>Tue, 19 Jun 2018</td> <th>  Prob (F-statistic):</th> <td>8.88e-10</td>\n",
       "</tr>\n",
       "<tr>\n",
       "  <th>Time:</th>                 <td>15:39:20</td>     <th>  Log-Likelihood:    </th> <td> -103.39</td>\n",
       "</tr>\n",
       "<tr>\n",
       "  <th>No. Observations:</th>      <td>    51</td>      <th>  AIC:               </th> <td>   216.8</td>\n",
       "</tr>\n",
       "<tr>\n",
       "  <th>Df Residuals:</th>          <td>    46</td>      <th>  BIC:               </th> <td>   226.4</td>\n",
       "</tr>\n",
       "<tr>\n",
       "  <th>Df Model:</th>              <td>     4</td>      <th>                     </th>     <td> </td>   \n",
       "</tr>\n",
       "<tr>\n",
       "  <th>Covariance Type:</th>      <td>nonrobust</td>    <th>                     </th>     <td> </td>   \n",
       "</tr>\n",
       "</table>\n",
       "<table class=\"simpletable\">\n",
       "<tr>\n",
       "        <td></td>          <th>coef</th>     <th>std err</th>      <th>t</th>      <th>P>|t|</th>  <th>[0.025</th>    <th>0.975]</th>  \n",
       "</tr>\n",
       "<tr>\n",
       "  <th>Intercept</th>    <td>   66.4765</td> <td>   12.590</td> <td>    5.280</td> <td> 0.000</td> <td>   41.134</td> <td>   91.819</td>\n",
       "</tr>\n",
       "<tr>\n",
       "  <th>hs_grad</th>      <td>   -0.5547</td> <td>    0.105</td> <td>   -5.288</td> <td> 0.000</td> <td>   -0.766</td> <td>   -0.344</td>\n",
       "</tr>\n",
       "<tr>\n",
       "  <th>metro_res</th>    <td>   -0.0563</td> <td>    0.020</td> <td>   -2.881</td> <td> 0.006</td> <td>   -0.096</td> <td>   -0.017</td>\n",
       "</tr>\n",
       "<tr>\n",
       "  <th>white</th>        <td>   -0.0481</td> <td>    0.033</td> <td>   -1.456</td> <td> 0.152</td> <td>   -0.115</td> <td>    0.018</td>\n",
       "</tr>\n",
       "<tr>\n",
       "  <th>female_house</th> <td>    0.0505</td> <td>    0.243</td> <td>    0.208</td> <td> 0.836</td> <td>   -0.439</td> <td>    0.540</td>\n",
       "</tr>\n",
       "</table>\n",
       "<table class=\"simpletable\">\n",
       "<tr>\n",
       "  <th>Omnibus:</th>       <td> 3.254</td> <th>  Durbin-Watson:     </th> <td>   1.891</td>\n",
       "</tr>\n",
       "<tr>\n",
       "  <th>Prob(Omnibus):</th> <td> 0.197</td> <th>  Jarque-Bera (JB):  </th> <td>   3.043</td>\n",
       "</tr>\n",
       "<tr>\n",
       "  <th>Skew:</th>          <td> 0.585</td> <th>  Prob(JB):          </th> <td>   0.218</td>\n",
       "</tr>\n",
       "<tr>\n",
       "  <th>Kurtosis:</th>      <td> 2.750</td> <th>  Cond. No.          </th> <td>6.50e+03</td>\n",
       "</tr>\n",
       "</table>"
      ],
      "text/plain": [
       "<class 'statsmodels.iolib.summary.Summary'>\n",
       "\"\"\"\n",
       "                            OLS Regression Results                            \n",
       "==============================================================================\n",
       "Dep. Variable:                poverty   R-squared:                       0.642\n",
       "Model:                            OLS   Adj. R-squared:                  0.610\n",
       "Method:                 Least Squares   F-statistic:                     20.58\n",
       "Date:                Tue, 19 Jun 2018   Prob (F-statistic):           8.88e-10\n",
       "Time:                        15:39:20   Log-Likelihood:                -103.39\n",
       "No. Observations:                  51   AIC:                             216.8\n",
       "Df Residuals:                      46   BIC:                             226.4\n",
       "Df Model:                           4                                         \n",
       "Covariance Type:            nonrobust                                         \n",
       "================================================================================\n",
       "                   coef    std err          t      P>|t|      [0.025      0.975]\n",
       "--------------------------------------------------------------------------------\n",
       "Intercept       66.4765     12.590      5.280      0.000      41.134      91.819\n",
       "hs_grad         -0.5547      0.105     -5.288      0.000      -0.766      -0.344\n",
       "metro_res       -0.0563      0.020     -2.881      0.006      -0.096      -0.017\n",
       "white           -0.0481      0.033     -1.456      0.152      -0.115       0.018\n",
       "female_house     0.0505      0.243      0.208      0.836      -0.439       0.540\n",
       "==============================================================================\n",
       "Omnibus:                        3.254   Durbin-Watson:                   1.891\n",
       "Prob(Omnibus):                  0.197   Jarque-Bera (JB):                3.043\n",
       "Skew:                           0.585   Prob(JB):                        0.218\n",
       "Kurtosis:                       2.750   Cond. No.                     6.50e+03\n",
       "==============================================================================\n",
       "\n",
       "Warnings:\n",
       "[1] Standard Errors assume that the covariance matrix of the errors is correctly specified.\n",
       "[2] The condition number is large, 6.5e+03. This might indicate that there are\n",
       "strong multicollinearity or other numerical problems.\n",
       "\"\"\""
      ]
     },
     "execution_count": 19,
     "metadata": {},
     "output_type": "execute_result"
    }
   ],
   "source": [
    "import statsmodels.formula.api as sm\n",
    "result = sm.ols(formula=\"poverty ~ hs_grad + metro_res + white + female_house\", data=df).fit()\n",
    "result.summary()"
   ]
  }
 ],
 "metadata": {
  "kernelspec": {
   "display_name": "Python 3",
   "language": "python",
   "name": "python3"
  },
  "language_info": {
   "codemirror_mode": {
    "name": "ipython",
    "version": 3
   },
   "file_extension": ".py",
   "mimetype": "text/x-python",
   "name": "python",
   "nbconvert_exporter": "python",
   "pygments_lexer": "ipython3",
   "version": "3.6.3"
  }
 },
 "nbformat": 4,
 "nbformat_minor": 2
}
